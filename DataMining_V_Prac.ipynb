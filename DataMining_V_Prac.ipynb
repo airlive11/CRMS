{
  "nbformat": 4,
  "nbformat_minor": 0,
  "metadata": {
    "colab": {
      "provenance": [],
      "authorship_tag": "ABX9TyNvTKW1u3TjT57Nm0YIMOzq",
      "include_colab_link": true
    },
    "kernelspec": {
      "name": "python3",
      "display_name": "Python 3"
    },
    "language_info": {
      "name": "python"
    }
  },
  "cells": [
    {
      "cell_type": "markdown",
      "metadata": {
        "id": "view-in-github",
        "colab_type": "text"
      },
      "source": [
        "<a href=\"https://colab.research.google.com/github/airlive11/CRMS/blob/main/DataMining_V_Prac.ipynb\" target=\"_parent\"><img src=\"https://colab.research.google.com/assets/colab-badge.svg\" alt=\"Open In Colab\"/></a>"
      ]
    },
    {
      "cell_type": "code",
      "execution_count": null,
      "metadata": {
        "id": "GCt--RMl3dry"
      },
      "outputs": [],
      "source": [
        "#import the pandas library\n",
        "import pandas as pd\n",
        "#Loading the dataset\n",
        "dataset = pd.read_excel(\"Age_salary.xlsx\")\n",
        "#print the dataset\n",
        "print(dataset)\n"
      ]
    },
    {
      "cell_type": "code",
      "source": [
        "#Takes all rows of all columns except the last column\n",
        "#independent variable set\n",
        "X = dataset.iloc[:,:-1].values\n",
        "# Takes all rows of the last column\n",
        "#dependent variable set\n",
        "Y = dataset.iloc[:,-1].values\n",
        "#Print the dataset\n",
        "print(\"The independent value is: \",X)\n",
        "print(\"The dependent value is: \",Y)\n"
      ],
      "metadata": {
        "id": "NGlDlHwF5fyg"
      },
      "execution_count": null,
      "outputs": []
    },
    {
      "cell_type": "code",
      "source": [
        "# Replace 'your_dataset.xlsx' with the actual file path\n",
        "file_path = 'Age_salary.xlsx'\n",
        "\n",
        "# Load the dataset into a Pandas DataFrame\n",
        "df = pd.read_excel(file_path)\n",
        "# Check for missing data in each column\n",
        "missing_data = df.isnull().sum()\n",
        "\n",
        "# Display columns with missing data\n",
        "print(\"Columns with Missing Data:\")\n",
        "print(missing_data[missing_data > 0])\n",
        "\n",
        "# Drop rows with missing values (you may choose other strategies based on your dataset)\n",
        "df_cleaned = df.dropna()\n",
        "\n",
        "# Alternatively, fill missing values with mean or median\n",
        "# df_filled = df.fillna(df.mean())  # Use mean for numerical columns\n",
        "# df_filled = df.fillna(df.median())  # Use median for numerical columns\n",
        "\n",
        "# Display the cleaned DataFrame\n",
        "print(\"Cleaned DataFrame:\")\n",
        "print(df_cleaned.head())\n",
        "#Loading the dataset\n",
        "dataset = pd.read_excel(\"Age_salary.xlsx\")\n",
        "#Print the dataset\n",
        "print(dataset)\n"
      ],
      "metadata": {
        "id": "NnCMMRhA8_qE"
      },
      "execution_count": null,
      "outputs": []
    }
  ]
}